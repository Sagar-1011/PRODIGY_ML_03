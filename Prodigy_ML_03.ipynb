{
 "cells": [
  {
   "cell_type": "code",
   "execution_count": 1,
   "id": "ef586a56",
   "metadata": {},
   "outputs": [],
   "source": [
    "import numpy as np \n",
    "import cv2\n",
    "import os\n",
    "import random \n",
    "import matplotlib.pyplot as plt\n",
    "import pickle \n"
   ]
  },
  {
   "cell_type": "code",
   "execution_count": 2,
   "id": "3b80379f",
   "metadata": {},
   "outputs": [],
   "source": [
    "DIRECTORY = r'C:\\Users\\sagar\\Desktop\\Intern\\dataset'\n",
    "CATEGORIES = ['cat', 'dog']"
   ]
  },
  {
   "cell_type": "code",
   "execution_count": 8,
   "id": "861cf743",
   "metadata": {},
   "outputs": [],
   "source": [
    "IMG_SIZE = 100\n",
    "\n",
    "data = []\n",
    "\n",
    "for category in CATEGORIES:\n",
    "    folder = os.path.join(DIRECTORY, category)\n",
    "    label =  CATEGORIES.index(category)\n",
    "    \n",
    "    for img in os.listdir(folder):\n",
    "        img_path = os.path.join(folder, img)\n",
    "        img_arr = cv2.imread(img_path)\n",
    "        img_arr = cv2.resize(img_arr, (IMG_SIZE, IMG_SIZE))\n",
    "        data.append([img_arr, label])"
   ]
  },
  {
   "cell_type": "code",
   "execution_count": 9,
   "id": "6dc9593c",
   "metadata": {},
   "outputs": [
    {
     "data": {
      "text/plain": [
       "10"
      ]
     },
     "execution_count": 9,
     "metadata": {},
     "output_type": "execute_result"
    }
   ],
   "source": [
    "len(data)"
   ]
  },
  {
   "cell_type": "code",
   "execution_count": 10,
   "id": "12f3f8df",
   "metadata": {},
   "outputs": [],
   "source": [
    "random.shuffle(data)"
   ]
  },
  {
   "cell_type": "code",
   "execution_count": 11,
   "id": "3fd7f931",
   "metadata": {},
   "outputs": [
    {
     "data": {
      "text/plain": [
       "[array([[[ 1, 27, 21],\n",
       "         [ 5, 28, 23],\n",
       "         [ 6, 28, 23],\n",
       "         ...,\n",
       "         [11, 45, 38],\n",
       "         [ 5, 40, 33],\n",
       "         [ 7, 38, 31]],\n",
       " \n",
       "        [[ 1, 27, 21],\n",
       "         [ 5, 29, 24],\n",
       "         [ 6, 28, 23],\n",
       "         ...,\n",
       "         [ 9, 42, 35],\n",
       "         [ 5, 41, 33],\n",
       "         [ 7, 38, 31]],\n",
       " \n",
       "        [[ 2, 28, 22],\n",
       "         [ 7, 30, 25],\n",
       "         [ 7, 29, 24],\n",
       "         ...,\n",
       "         [ 7, 41, 34],\n",
       "         [ 6, 42, 35],\n",
       "         [ 8, 39, 32]],\n",
       " \n",
       "        ...,\n",
       " \n",
       "        [[ 8, 49, 32],\n",
       "         [12, 51, 42],\n",
       "         [16, 53, 49],\n",
       "         ...,\n",
       "         [19, 52, 49],\n",
       "         [14, 47, 44],\n",
       "         [24, 55, 53]],\n",
       " \n",
       "        [[ 2, 39, 26],\n",
       "         [ 8, 45, 34],\n",
       "         [17, 54, 44],\n",
       "         ...,\n",
       "         [13, 51, 45],\n",
       "         [11, 45, 40],\n",
       "         [ 6, 33, 29]],\n",
       " \n",
       "        [[ 9, 45, 33],\n",
       "         [10, 47, 36],\n",
       "         [10, 47, 37],\n",
       "         ...,\n",
       "         [ 8, 46, 40],\n",
       "         [16, 50, 45],\n",
       "         [12, 39, 34]]], dtype=uint8),\n",
       " 0]"
      ]
     },
     "execution_count": 11,
     "metadata": {},
     "output_type": "execute_result"
    }
   ],
   "source": [
    "data[0]"
   ]
  },
  {
   "cell_type": "code",
   "execution_count": 12,
   "id": "eca3c3ad",
   "metadata": {},
   "outputs": [],
   "source": [
    "X = []\n",
    "y = []\n",
    "\n",
    "for features, labels in data:\n",
    "    X.append(features)\n",
    "    y.append(labels)\n",
    "    "
   ]
  },
  {
   "cell_type": "code",
   "execution_count": 13,
   "id": "a62724cf",
   "metadata": {},
   "outputs": [],
   "source": [
    "X = np.array(X)\n",
    "y = np.array(y)"
   ]
  },
  {
   "cell_type": "code",
   "execution_count": 17,
   "id": "2b703608",
   "metadata": {},
   "outputs": [],
   "source": [
    "pickle.dump(X, open('X.pkl','wb'))\n",
    "pickle.dump(y, open('y.pkl','wb'))"
   ]
  },
  {
   "cell_type": "code",
   "execution_count": 29,
   "id": "51b07cc1",
   "metadata": {},
   "outputs": [],
   "source": [
    "from keras.models import Sequential \n",
    "from keras.layers import Conv2D, MaxPooling2D, Flatten, Dense"
   ]
  },
  {
   "cell_type": "code",
   "execution_count": 33,
   "id": "7ba119eb",
   "metadata": {},
   "outputs": [],
   "source": [
    "model =  Sequential()\n",
    "\n",
    "model.add(Conv2D(64, (3,3), activation = 'relu'))\n",
    "model.add(MaxPooling2D((2,2)))\n",
    "\n",
    "model.add(Conv2D(64, (3,3), activation = 'relu'))\n",
    "model.add(MaxPooling2D((2,2)))\n",
    "\n",
    "model.add(Flatten())\n",
    "\n",
    "model.add(Dense(128, input_shape = X.shape[1:], activation = 'relu'))\n",
    "\n",
    "model.add(Dense(2, activation = 'softmax'))\n",
    "\n"
   ]
  },
  {
   "cell_type": "code",
   "execution_count": 34,
   "id": "f3a1b0b3",
   "metadata": {},
   "outputs": [],
   "source": [
    "model.compile(optimizer = 'adam', loss='sparse_categorical_crossentropy', metrics=['accuracy'])"
   ]
  },
  {
   "cell_type": "code",
   "execution_count": 37,
   "id": "50f6c6e0",
   "metadata": {},
   "outputs": [
    {
     "name": "stdout",
     "output_type": "stream",
     "text": [
      "Epoch 1/5\n",
      "\u001b[1m1/1\u001b[0m \u001b[32m━━━━━━━━━━━━━━━━━━━━\u001b[0m\u001b[37m\u001b[0m \u001b[1m0s\u001b[0m 106ms/step - accuracy: 0.5714 - loss: 79.1099 - val_accuracy: 0.3333 - val_loss: 65.7343\n",
      "Epoch 2/5\n",
      "\u001b[1m1/1\u001b[0m \u001b[32m━━━━━━━━━━━━━━━━━━━━\u001b[0m\u001b[37m\u001b[0m \u001b[1m0s\u001b[0m 79ms/step - accuracy: 0.5714 - loss: 33.0846 - val_accuracy: 0.3333 - val_loss: 15.3513\n",
      "Epoch 3/5\n",
      "\u001b[1m1/1\u001b[0m \u001b[32m━━━━━━━━━━━━━━━━━━━━\u001b[0m\u001b[37m\u001b[0m \u001b[1m0s\u001b[0m 77ms/step - accuracy: 0.7143 - loss: 2.1126 - val_accuracy: 0.6667 - val_loss: 14.6291\n",
      "Epoch 4/5\n",
      "\u001b[1m1/1\u001b[0m \u001b[32m━━━━━━━━━━━━━━━━━━━━\u001b[0m\u001b[37m\u001b[0m \u001b[1m0s\u001b[0m 79ms/step - accuracy: 0.4286 - loss: 13.5251 - val_accuracy: 0.6667 - val_loss: 6.2175\n",
      "Epoch 5/5\n",
      "\u001b[1m1/1\u001b[0m \u001b[32m━━━━━━━━━━━━━━━━━━━━\u001b[0m\u001b[37m\u001b[0m \u001b[1m0s\u001b[0m 81ms/step - accuracy: 0.4286 - loss: 4.6632 - val_accuracy: 0.3333 - val_loss: 8.7803\n"
     ]
    },
    {
     "data": {
      "text/plain": [
       "<keras.src.callbacks.history.History at 0x20d4fbaf010>"
      ]
     },
     "execution_count": 37,
     "metadata": {},
     "output_type": "execute_result"
    }
   ],
   "source": [
    "model.fit(X, y, epochs=5 , validation_split=0.3)"
   ]
  },
  {
   "cell_type": "code",
   "execution_count": null,
   "id": "22e96712",
   "metadata": {},
   "outputs": [],
   "source": []
  }
 ],
 "metadata": {
  "kernelspec": {
   "display_name": "Python 3 (ipykernel)",
   "language": "python",
   "name": "python3"
  },
  "language_info": {
   "codemirror_mode": {
    "name": "ipython",
    "version": 3
   },
   "file_extension": ".py",
   "mimetype": "text/x-python",
   "name": "python",
   "nbconvert_exporter": "python",
   "pygments_lexer": "ipython3",
   "version": "3.11.5"
  }
 },
 "nbformat": 4,
 "nbformat_minor": 5
}
